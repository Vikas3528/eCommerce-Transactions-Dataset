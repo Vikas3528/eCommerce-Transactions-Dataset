{
 "cells": [
  {
   "cell_type": "code",
   "execution_count": 1,
   "id": "805a9e36-8cc8-40f7-a5b7-687250fcdd30",
   "metadata": {},
   "outputs": [],
   "source": [
    "import pandas as pd\n",
    "import numpy as np\n",
    "from sklearn.preprocessing import StandardScaler\n",
    "from sklearn.metrics.pairwise import cosine_similarity"
   ]
  },
  {
   "cell_type": "code",
   "execution_count": 2,
   "id": "c98a12c5-4b84-4518-a9e1-7461606314fb",
   "metadata": {},
   "outputs": [],
   "source": [
    "# Load customers, products, and transactions\n",
    "customers = pd.read_csv(\"Customers.csv\")\n",
    "products = pd.read_csv(\"Products.csv\")\n",
    "transactions = pd.read_csv(\"Transactions.csv\")\n",
    "\n",
    "# Convert dates to datetime format\n",
    "customers[\"SignupDate\"] = pd.to_datetime(customers[\"SignupDate\"])\n",
    "transactions[\"TransactionDate\"] = pd.to_datetime(transactions[\"TransactionDate\"])"
   ]
  },
  {
   "cell_type": "code",
   "execution_count": 3,
   "id": "100cdad1-5dd1-4b03-bcb6-eb1d34af7009",
   "metadata": {},
   "outputs": [],
   "source": [
    "# Create customer-product interaction matrix\n",
    "interaction_matrix = transactions.pivot_table(index=\"CustomerID\", columns=\"ProductID\", values=\"Quantity\", aggfunc=\"sum\").fillna(0)\n",
    "\n",
    "# Normalize the interaction matrix\n",
    "scaler = StandardScaler()\n",
    "interaction_matrix_scaled = scaler.fit_transform(interaction_matrix)"
   ]
  },
  {
   "cell_type": "code",
   "execution_count": 4,
   "id": "b42d06a0-44ef-44f9-abc5-294c5e0b8b79",
   "metadata": {},
   "outputs": [],
   "source": [
    "# Compute cosine similarity between customers\n",
    "similarity_matrix = cosine_similarity(interaction_matrix_scaled)\n",
    "\n",
    "# Convert similarity matrix into a DataFrame\n",
    "customer_similarity_df = pd.DataFrame(similarity_matrix, index=interaction_matrix.index, columns=interaction_matrix.index)"
   ]
  },
  {
   "cell_type": "code",
   "execution_count": 5,
   "id": "bf5fbdc0-8ba1-4fe0-bc93-217912a9a33f",
   "metadata": {},
   "outputs": [],
   "source": [
    "# Function to get top 3 similar customers for a given customer\n",
    "def get_top_3_similar(customers_df, customer_id):\n",
    "    similar_customers = customers_df[customer_id].sort_values(ascending=False)[1:4]  # Exclude self\n",
    "    return list(similar_customers.index), list(similar_customers.values)\n",
    "\n",
    "# Generate Lookalike.csv for the first 20 customers (C0001 - C0020)\n",
    "lookalike_data = []\n",
    "\n",
    "for customer_id in customers[\"CustomerID\"][:20]:  # First 20 customers\n",
    "    lookalikes, scores = get_top_3_similar(customer_similarity_df, customer_id)\n",
    "    lookalike_data.append([customer_id, lookalikes[0], scores[0], lookalikes[1], scores[1], lookalikes[2], scores[2]])\n",
    "\n",
    "# Convert to DataFrame\n",
    "lookalike_df = pd.DataFrame(lookalike_data, columns=[\"cust_id\", \"lookalike1\", \"score1\", \"lookalike2\", \"score2\", \"lookalike3\", \"score3\"])\n",
    "\n",
    "# Save as CSV\n",
    "lookalike_df.to_csv(\"FirstName_LastName_Lookalike.csv\", index=False)"
   ]
  },
  {
   "cell_type": "code",
   "execution_count": null,
   "id": "409e97f3-8bcf-48b0-b101-cbc112f81297",
   "metadata": {},
   "outputs": [],
   "source": []
  }
 ],
 "metadata": {
  "kernelspec": {
   "display_name": "Python 3 (ipykernel)",
   "language": "python",
   "name": "python3"
  },
  "language_info": {
   "codemirror_mode": {
    "name": "ipython",
    "version": 3
   },
   "file_extension": ".py",
   "mimetype": "text/x-python",
   "name": "python",
   "nbconvert_exporter": "python",
   "pygments_lexer": "ipython3",
   "version": "3.13.1"
  }
 },
 "nbformat": 4,
 "nbformat_minor": 5
}
